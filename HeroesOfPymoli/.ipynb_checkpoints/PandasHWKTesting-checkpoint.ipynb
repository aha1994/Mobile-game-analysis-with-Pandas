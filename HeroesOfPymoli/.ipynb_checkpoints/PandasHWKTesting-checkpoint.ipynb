{
 "cells": [
  {
   "cell_type": "code",
   "execution_count": 85,
   "metadata": {},
   "outputs": [],
   "source": [
    "import pandas as pd\n",
    "import os"
   ]
  },
  {
   "cell_type": "code",
   "execution_count": 86,
   "metadata": {},
   "outputs": [
    {
     "name": "stdout",
     "output_type": "stream",
     "text": [
      "<class 'pandas.core.frame.DataFrame'>\n",
      "RangeIndex: 780 entries, 0 to 779\n",
      "Data columns (total 7 columns):\n",
      "Purchase ID    780 non-null int64\n",
      "SN             780 non-null object\n",
      "Age            780 non-null int64\n",
      "Gender         780 non-null object\n",
      "Item ID        780 non-null int64\n",
      "Item Name      780 non-null object\n",
      "Price          780 non-null float64\n",
      "dtypes: float64(1), int64(3), object(3)\n",
      "memory usage: 42.7+ KB\n"
     ]
    }
   ],
   "source": [
    "path = os.path.join(\"Resources\", \"purchase_data.csv\")\n",
    "df = pd.read_csv(path)\n",
    "df.info()"
   ]
  },
  {
   "cell_type": "code",
   "execution_count": 87,
   "metadata": {},
   "outputs": [
    {
     "name": "stdout",
     "output_type": "stream",
     "text": [
      "There are 576 unique players in this dataset.\n"
     ]
    }
   ],
   "source": [
    "#Player Count\n",
    "players = df['SN'].nunique()\n",
    "print(\"There are %s unique players in this dataset.\" % players)"
   ]
  },
  {
   "cell_type": "code",
   "execution_count": 88,
   "metadata": {},
   "outputs": [
    {
     "data": {
      "text/html": [
       "<div>\n",
       "<style scoped>\n",
       "    .dataframe tbody tr th:only-of-type {\n",
       "        vertical-align: middle;\n",
       "    }\n",
       "\n",
       "    .dataframe tbody tr th {\n",
       "        vertical-align: top;\n",
       "    }\n",
       "\n",
       "    .dataframe thead th {\n",
       "        text-align: right;\n",
       "    }\n",
       "</style>\n",
       "<table border=\"1\" class=\"dataframe\">\n",
       "  <thead>\n",
       "    <tr style=\"text-align: right;\">\n",
       "      <th></th>\n",
       "      <th>Num of Items</th>\n",
       "      <th>Average Price</th>\n",
       "      <th>Num of Purchases</th>\n",
       "      <th>Total Sales</th>\n",
       "    </tr>\n",
       "  </thead>\n",
       "  <tbody>\n",
       "    <tr>\n",
       "      <th>0</th>\n",
       "      <td>183</td>\n",
       "      <td>$3.05</td>\n",
       "      <td>780</td>\n",
       "      <td>$2,379.77</td>\n",
       "    </tr>\n",
       "  </tbody>\n",
       "</table>\n",
       "</div>"
      ],
      "text/plain": [
       "   Num of Items Average Price  Num of Purchases Total Sales\n",
       "0           183         $3.05               780   $2,379.77"
      ]
     },
     "execution_count": 88,
     "metadata": {},
     "output_type": "execute_result"
    }
   ],
   "source": [
    "# Purchasing Analysis (Total)\n",
    "\n",
    "players = df['SN'].nunique()\n",
    "items = df['Item ID'].nunique()\n",
    "purchases = df['Purchase ID'].nunique()\n",
    "revenue = df['Price'].sum()\n",
    "avg_price = df['Price'].mean()\n",
    "\n",
    "purchasingAnalysis = pd.DataFrame({\n",
    "    \"Num of Items\": [items],\n",
    "    'Average Price': [avg_price],\n",
    "    'Num of Purchases': [purchases],\n",
    "    'Total Sales': [revenue],\n",
    "})\n",
    "\n",
    "purchasingAnalysis['Average Price'] = purchasingAnalysis['Average Price'].map('${:.2f}'.format)\n",
    "purchasingAnalysis['Total Sales'] = purchasingAnalysis['Total Sales'].map('${:,.2f}'.format)\n",
    "purchasingAnalysis"
   ]
  },
  {
   "cell_type": "code",
   "execution_count": 89,
   "metadata": {},
   "outputs": [
    {
     "data": {
      "text/html": [
       "<div>\n",
       "<style scoped>\n",
       "    .dataframe tbody tr th:only-of-type {\n",
       "        vertical-align: middle;\n",
       "    }\n",
       "\n",
       "    .dataframe tbody tr th {\n",
       "        vertical-align: top;\n",
       "    }\n",
       "\n",
       "    .dataframe thead th {\n",
       "        text-align: right;\n",
       "    }\n",
       "</style>\n",
       "<table border=\"1\" class=\"dataframe\">\n",
       "  <thead>\n",
       "    <tr style=\"text-align: right;\">\n",
       "      <th></th>\n",
       "      <th>Total Count</th>\n",
       "      <th>Percentage of Players</th>\n",
       "    </tr>\n",
       "  </thead>\n",
       "  <tbody>\n",
       "    <tr>\n",
       "      <th>Males</th>\n",
       "      <td>484</td>\n",
       "      <td>84.03%</td>\n",
       "    </tr>\n",
       "    <tr>\n",
       "      <th>Females</th>\n",
       "      <td>81</td>\n",
       "      <td>14.06%</td>\n",
       "    </tr>\n",
       "    <tr>\n",
       "      <th>Other / Non-Disclosed</th>\n",
       "      <td>11</td>\n",
       "      <td>1.91%</td>\n",
       "    </tr>\n",
       "  </tbody>\n",
       "</table>\n",
       "</div>"
      ],
      "text/plain": [
       "                       Total Count Percentage of Players\n",
       "Males                          484                84.03%\n",
       "Females                         81                14.06%\n",
       "Other / Non-Disclosed           11                 1.91%"
      ]
     },
     "execution_count": 89,
     "metadata": {},
     "output_type": "execute_result"
    }
   ],
   "source": [
    "#Gender Demographics\n",
    "\n",
    "unique_playerDF = df.drop_duplicates('SN')\n",
    "unique_playerDF['Gender'].value_counts()\n",
    "numMale = (unique_playerDF['Gender'] == 'Male').sum()\n",
    "numFemale = (unique_playerDF['Gender'] == 'Female').sum()\n",
    "numOther = (unique_playerDF['Gender'] == 'Other / Non-Disclosed').sum()\n",
    "genderDemographics = pd.DataFrame({\n",
    "    'Total Count': [numMale, numFemale, numOther],\n",
    "    'Percentage of Players': [(numMale/players)*100,(numFemale/players)*100, (numOther/players)*100],\n",
    "}, ['Males', 'Females', 'Other / Non-Disclosed'])\n",
    "genderDemographics['Percentage of Players'] = genderDemographics['Percentage of Players'].map('{:.2f}%'.format)\n",
    "genderDemographics"
   ]
  },
  {
   "cell_type": "code",
   "execution_count": 100,
   "metadata": {},
   "outputs": [
    {
     "data": {
      "text/plain": [
       "(                       Purchase ID    Age  Item ID    Price\n",
       " Gender                                                     \n",
       " Female                       42870   2412     9659   361.94\n",
       " Male                        255921  14942    60978  1967.64\n",
       " Other / Non-Disclosed         5019    363     1212    50.19,\n",
       "                        Purchase ID        Age    Item ID     Price\n",
       " Gender                                                            \n",
       " Female                  379.380531  21.345133  85.477876  3.203009\n",
       " Male                    392.516871  22.917178  93.524540  3.017853\n",
       " Other / Non-Disclosed   334.600000  24.200000  80.800000  3.346000,\n",
       "                        Purchase ID   SN  Age  Item ID  Item Name  Price\n",
       " Gender                                                                 \n",
       " Female                         113  113  113      113        113    113\n",
       " Male                           652  652  652      652        652    652\n",
       " Other / Non-Disclosed           15   15   15       15         15     15)"
      ]
     },
     "execution_count": 100,
     "metadata": {},
     "output_type": "execute_result"
    }
   ],
   "source": [
    "# Purchasing Analysis (Gender)\n",
    "byGenderDF = df.groupby(['Gender'])\n",
    "byGenderDF.sum(), byGenderDF.mean(), byGenderDF.count()"
   ]
  },
  {
   "cell_type": "code",
   "execution_count": 119,
   "metadata": {},
   "outputs": [
    {
     "data": {
      "text/html": [
       "<div>\n",
       "<style scoped>\n",
       "    .dataframe tbody tr th:only-of-type {\n",
       "        vertical-align: middle;\n",
       "    }\n",
       "\n",
       "    .dataframe tbody tr th {\n",
       "        vertical-align: top;\n",
       "    }\n",
       "\n",
       "    .dataframe thead th {\n",
       "        text-align: right;\n",
       "    }\n",
       "</style>\n",
       "<table border=\"1\" class=\"dataframe\">\n",
       "  <thead>\n",
       "    <tr style=\"text-align: right;\">\n",
       "      <th></th>\n",
       "      <th>Purchase Count</th>\n",
       "      <th>Average Purchase Price</th>\n",
       "      <th>Total Purchase Sum</th>\n",
       "      <th>Avg Total Purchase per Person</th>\n",
       "    </tr>\n",
       "    <tr>\n",
       "      <th>Gender</th>\n",
       "      <th></th>\n",
       "      <th></th>\n",
       "      <th></th>\n",
       "      <th></th>\n",
       "    </tr>\n",
       "  </thead>\n",
       "  <tbody>\n",
       "    <tr>\n",
       "      <th>Female</th>\n",
       "      <td>113</td>\n",
       "      <td>$3.20</td>\n",
       "      <td>$361.94</td>\n",
       "      <td>$4.47</td>\n",
       "    </tr>\n",
       "    <tr>\n",
       "      <th>Male</th>\n",
       "      <td>652</td>\n",
       "      <td>$3.02</td>\n",
       "      <td>$1,967.64</td>\n",
       "      <td>$4.07</td>\n",
       "    </tr>\n",
       "    <tr>\n",
       "      <th>Other / Non-Disclosed</th>\n",
       "      <td>15</td>\n",
       "      <td>$3.35</td>\n",
       "      <td>$50.19</td>\n",
       "      <td>$4.56</td>\n",
       "    </tr>\n",
       "  </tbody>\n",
       "</table>\n",
       "</div>"
      ],
      "text/plain": [
       "                       Purchase Count Average Purchase Price  \\\n",
       "Gender                                                         \n",
       "Female                            113                  $3.20   \n",
       "Male                              652                  $3.02   \n",
       "Other / Non-Disclosed              15                  $3.35   \n",
       "\n",
       "                      Total Purchase Sum Avg Total Purchase per Person  \n",
       "Gender                                                                  \n",
       "Female                           $361.94                         $4.47  \n",
       "Male                           $1,967.64                         $4.07  \n",
       "Other / Non-Disclosed             $50.19                         $4.56  "
      ]
     },
     "execution_count": 119,
     "metadata": {},
     "output_type": "execute_result"
    }
   ],
   "source": [
    "genderCount = byGenderDF['SN'].count()\n",
    "genderMeanPrice = byGenderDF['Price'].mean()\n",
    "genderTotal = byGenderDF['Price'].sum()\n",
    "genderUnique = byGenderDF['SN'].nunique()\n",
    "genderAvgPurch = (genderTotal/genderUnique)\n",
    "\n",
    "purchasingAnalysis = pd.DataFrame({\n",
    "    'Purchase Count': genderCount,\n",
    "    'Average Purchase Price': genderMeanPrice.map('${:,.2f}'.format),\n",
    "    'Total Purchase Sum': genderTotal.map('${:,.2f}'.format),\n",
    "    'Avg Total Purchase per Person': genderAvgPurch.map('${:,.2f}'.format)},\n",
    "    ['Female', 'Male', 'Other / Non-Disclosed'])\n",
    "purchasingAnalysis.index.name = 'Gender'\n",
    "purchasingAnalysis"
   ]
  },
  {
   "cell_type": "code",
   "execution_count": 126,
   "metadata": {},
   "outputs": [
    {
     "data": {
      "text/plain": [
       "20-24    258\n",
       "15-19    107\n",
       "25-29     77\n",
       "30-34     52\n",
       "35-39     31\n",
       "10-14     22\n",
       "0-10      17\n",
       "40+       12\n",
       "Name: Age, dtype: int64"
      ]
     },
     "execution_count": 126,
     "metadata": {},
     "output_type": "execute_result"
    }
   ],
   "source": [
    "# Age Demographics\n",
    "bins = [0, 9, 14, 19, 24, 29, 34, 39, 100]\n",
    "label_list = [\"0-10\", \"10-14\", \"15-19\", \"20-24\", \"25-29\", \"30-34\", \"35-39\", \"40+\"]\n",
    "age_groups = pd.cut(unique_playerDF['Age'], bins, labels = label_list)\n",
    "age_groups.value_counts()"
   ]
  }
 ],
 "metadata": {
  "kernelspec": {
   "display_name": "Python 3",
   "language": "python",
   "name": "python3"
  },
  "language_info": {
   "codemirror_mode": {
    "name": "ipython",
    "version": 3
   },
   "file_extension": ".py",
   "mimetype": "text/x-python",
   "name": "python",
   "nbconvert_exporter": "python",
   "pygments_lexer": "ipython3",
   "version": "3.7.3"
  }
 },
 "nbformat": 4,
 "nbformat_minor": 4
}
